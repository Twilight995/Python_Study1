{
 "cells": [
  {
   "cell_type": "code",
   "execution_count": 6,
   "outputs": [
    {
     "name": "stdout",
     "output_type": "stream",
     "text": [
      "314.0\n"
     ]
    }
   ],
   "source": [
    "pi=3.14\n",
    "radius=10\n",
    "area=pi*radius*radius\n",
    "print(area)"
   ],
   "metadata": {
    "collapsed": false,
    "pycharm": {
     "name": "#%%\n"
    }
   }
  },
  {
   "cell_type": "code",
   "execution_count": 9,
   "outputs": [
    {
     "name": "stdout",
     "output_type": "stream",
     "text": [
      "0.042279722645019446\n"
     ]
    }
   ],
   "source": [
    "speed = 300000\n",
    "distance = 400000000000\n",
    "sec = distance / speed\n",
    "lightyear = sec/(60.0*60.0*24.0*365.0)\n",
    "print(lightyear)"
   ],
   "metadata": {
    "collapsed": false,
    "pycharm": {
     "name": "#%%\n"
    }
   }
  },
  {
   "cell_type": "code",
   "execution_count": 12,
   "outputs": [
    {
     "name": "stdout",
     "output_type": "stream",
     "text": [
      "15.0  50.0  0.5  5.0\n"
     ]
    }
   ],
   "source": [
    "num=float(input('첫번째 수를 입력하세요 :'))\n",
    "num_second=float(input('두번째 수를 입력하세요 :'))\n",
    "print(num+num_second, end='  ')\n",
    "print(num*num_second, end='  ')\n",
    "print(num/num_second, end='  ')\n",
    "print(num%num_second)\n"
   ],
   "metadata": {
    "collapsed": false,
    "pycharm": {
     "name": "#%%\n"
    }
   }
  },
  {
   "cell_type": "code",
   "execution_count": 16,
   "outputs": [
    {
     "name": "stdout",
     "output_type": "stream",
     "text": [
      "다음 물품을 구매하셨습니다 : 초쿄송이\n"
     ]
    }
   ],
   "source": [
    "a='나쵸'\n",
    "b='푸카리'\n",
    "c='초쿄송이'\n",
    "d='푸카칩'\n",
    "choice = input('무엇을 선택하시겠습니까?')\n",
    "if choice=='a':\n",
    "    print('다음 물품을 구매하셨습니다 : ' +a)\n",
    "\n",
    "elif choice=='b':\n",
    "    print('다음 물품을 구매하셨습니다 : '+ b)\n",
    "elif choice=='c':\n",
    "    print('다음 물품을 구매하셨습니다 : ' +c)\n",
    "elif choice=='d':\n",
    "    print('다음 물품을 구매하셨습니다 : ' +d)"
   ],
   "metadata": {
    "collapsed": false,
    "pycharm": {
     "name": "#%%\n"
    }
   }
  },
  {
   "cell_type": "code",
   "execution_count": 22,
   "outputs": [
    {
     "name": "stdout",
     "output_type": "stream",
     "text": [
      "오늘  서울 에서 야구 경기가 열렸습니다\n",
      "삼성 과  LG 은 치열한 공방을 펼쳤습니다\n",
      "홍길동 가 맹활약을 하였습니다\n",
      "결국 삼성 가 LG 로 이겼습니다\n"
     ]
    }
   ],
   "source": [
    "station=input('경기장은 어디입니까?')\n",
    "winer=input('이긴팀은 어디입니까?')\n",
    "loser=input('진팀은 어디입니까?')\n",
    "mvp=input('우수선수는 누구입니까?')\n",
    "score=input('스코어는 몇대몇입니까?')\n",
    "\n",
    "print('오늘 ',station,'에서 야구 경기가 열렸습니다')\n",
    "print(winer,'과 ',loser ,'은 치열한 공방을 펼쳤습니다')\n",
    "print(mvp,'가 맹활약을 하였습니다')\n",
    "print('결국', winer,'가',loser,'로 이겼습니다')\n"
   ],
   "metadata": {
    "collapsed": false,
    "pycharm": {
     "name": "#%%\n"
    }
   }
  }
 ],
 "metadata": {
  "kernelspec": {
   "display_name": "Python 3",
   "language": "python",
   "name": "python3"
  },
  "language_info": {
   "codemirror_mode": {
    "name": "ipython",
    "version": 2
   },
   "file_extension": ".py",
   "mimetype": "text/x-python",
   "name": "python",
   "nbconvert_exporter": "python",
   "pygments_lexer": "ipython2",
   "version": "2.7.6"
  }
 },
 "nbformat": 4,
 "nbformat_minor": 0
}