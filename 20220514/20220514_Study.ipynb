{
 "cells": [
  {
   "cell_type": "code",
   "execution_count": null,
   "metadata": {
    "collapsed": true,
    "pycharm": {
     "name": "#%%\n"
    }
   },
   "outputs": [],
   "source": [
    "#set\n",
    "#요소의 모임 (집합의 표현 방식)\n",
    "#밴다이어그램"
   ]
  },
  {
   "cell_type": "code",
   "execution_count": null,
   "outputs": [],
   "source": [
    "#딕셔너리 : key와 매칭되는 밸류의 값을 얻고싶다\n",
    "#값을 조합하기위해 사용\n",
    "#파이썬에서 수학점 개념을 코드화"
   ],
   "metadata": {
    "collapsed": false,
    "pycharm": {
     "name": "#%%\n"
    }
   }
  },
  {
   "cell_type": "code",
   "execution_count": 4,
   "outputs": [
    {
     "name": "stdout",
     "output_type": "stream",
     "text": [
      "{1, 3, 4}\n"
     ]
    }
   ],
   "source": [
    "s1={1, 2, 3, 4}\n",
    "# s1이라는 집합 선언\n",
    "s2={2}\n",
    "type(s2)\n",
    "str1 = '111111111222222222222233333333333444444444455555555555'\n",
    "set(str1)\n",
    "# set = 중복허용 안함 ***************\n",
    "s1 = {1, 1, 1, 1, 1, 1, 1, 3, 3, 4, 4, 4}\n",
    "print(s1)"
   ],
   "metadata": {
    "collapsed": false,
    "pycharm": {
     "name": "#%%\n"
    }
   }
  },
  {
   "cell_type": "code",
   "execution_count": 13,
   "outputs": [
    {
     "name": "stdout",
     "output_type": "stream",
     "text": [
      "{1, 2, 3, 4, 5, 6}\n",
      "{3, 4}\n",
      "{1, 2}\n",
      "{3, 4}\n",
      "{1, 2, 5, 6}\n",
      "{1, 2, 3, 4}\n"
     ]
    }
   ],
   "source": [
    "a = {1, 2, 3, 4}\n",
    "b = {3, 4, 5, 6}\n",
    "#a.add(5)\n",
    "#a.remove(5) #5가 있는지 없는지 확인 후 없으면 오류 출력\n",
    "#a.pop() #일단 아무거나 없애고 없앨게 없으면 오류 출력\n",
    "#a.update(b)\n",
    "print(a.union(b))\n",
    "print((a.intersection(b)))\n",
    "print(a-b)\n",
    "print(a & b)\n",
    "print(a ^ b)\n",
    "print(a)"
   ],
   "metadata": {
    "collapsed": false,
    "pycharm": {
     "name": "#%%\n"
    }
   }
  },
  {
   "cell_type": "code",
   "execution_count": 14,
   "outputs": [
    {
     "name": "stdout",
     "output_type": "stream",
     "text": [
      "1\n",
      "2\n",
      "3\n",
      "4\n"
     ]
    }
   ],
   "source": [
    "for el in {1, 2, 3, 4}:\n",
    "    print(el)"
   ],
   "metadata": {
    "collapsed": false,
    "pycharm": {
     "name": "#%%\n"
    }
   }
  },
  {
   "cell_type": "code",
   "execution_count": 15,
   "outputs": [
    {
     "data": {
      "text/plain": "True"
     },
     "execution_count": 15,
     "metadata": {},
     "output_type": "execute_result"
    }
   ],
   "source": [
    "1 in {1, 2, 3}"
   ],
   "metadata": {
    "collapsed": false,
    "pycharm": {
     "name": "#%%\n"
    }
   }
  },
  {
   "cell_type": "code",
   "execution_count": 17,
   "outputs": [
    {
     "data": {
      "text/plain": "False"
     },
     "execution_count": 17,
     "metadata": {},
     "output_type": "execute_result"
    }
   ],
   "source": [
    "4 in {1, 2, 3}"
   ],
   "metadata": {
    "collapsed": false,
    "pycharm": {
     "name": "#%%\n"
    }
   }
  },
  {
   "cell_type": "code",
   "execution_count": 18,
   "outputs": [
    {
     "data": {
      "text/plain": "6"
     },
     "execution_count": 18,
     "metadata": {},
     "output_type": "execute_result"
    }
   ],
   "source": [
    "len({1, 2, 3, 4, 5, 12, 12})"
   ],
   "metadata": {
    "collapsed": false,
    "pycharm": {
     "name": "#%%\n"
    }
   }
  },
  {
   "cell_type": "code",
   "execution_count": 21,
   "outputs": [
    {
     "name": "stdout",
     "output_type": "stream",
     "text": [
      "4\n",
      "3\n"
     ]
    }
   ],
   "source": [
    "print(max(a))\n",
    "print(min(b))"
   ],
   "metadata": {
    "collapsed": false,
    "pycharm": {
     "name": "#%%\n"
    }
   }
  },
  {
   "cell_type": "code",
   "execution_count": null,
   "outputs": [],
   "source": [
    "# 주민번호\n",
    "#에헿헿ㅎ헤헤\n",
    "# 에러\n",
    "# 에러 ㅡ>\n",
    "# 예외 처리\n"
   ],
   "metadata": {
    "collapsed": false,
    "pycharm": {
     "name": "#%%\n"
    }
   }
  },
  {
   "cell_type": "code",
   "execution_count": 22,
   "outputs": [
    {
     "name": "stdout",
     "output_type": "stream",
     "text": [
      "정수를 입력받아 3을 출력하는 계산기를 만들어라\n"
     ]
    },
    {
     "ename": "ValueError",
     "evalue": "invalid literal for int() with base 10: '에헿에헤헿'",
     "output_type": "error",
     "traceback": [
      "\u001B[1;31m---------------------------------------------------------------------------\u001B[0m",
      "\u001B[1;31mValueError\u001B[0m                                Traceback (most recent call last)",
      "\u001B[1;32m~\\AppData\\Local\\Temp/ipykernel_22628/1590301163.py\u001B[0m in \u001B[0;36m<module>\u001B[1;34m\u001B[0m\n\u001B[0;32m      1\u001B[0m \u001B[0mprint\u001B[0m\u001B[1;33m(\u001B[0m\u001B[1;34m'정수를 입력받아 3을 출력하는 계산기를 만들어라'\u001B[0m\u001B[1;33m)\u001B[0m\u001B[1;33m\u001B[0m\u001B[1;33m\u001B[0m\u001B[0m\n\u001B[1;32m----> 2\u001B[1;33m \u001B[0minput_num\u001B[0m \u001B[1;33m=\u001B[0m \u001B[0mint\u001B[0m\u001B[1;33m(\u001B[0m\u001B[0minput\u001B[0m\u001B[1;33m(\u001B[0m\u001B[1;34m'정수를 입력하시오'\u001B[0m\u001B[1;33m)\u001B[0m\u001B[1;33m)\u001B[0m\u001B[1;33m\u001B[0m\u001B[1;33m\u001B[0m\u001B[0m\n\u001B[0m\u001B[0;32m      3\u001B[0m \u001B[0mprint\u001B[0m\u001B[1;33m(\u001B[0m\u001B[0minput_num\u001B[0m \u001B[1;33m*\u001B[0m \u001B[1;36m3\u001B[0m\u001B[1;33m)\u001B[0m\u001B[1;33m\u001B[0m\u001B[1;33m\u001B[0m\u001B[0m\n",
      "\u001B[1;31mValueError\u001B[0m: invalid literal for int() with base 10: '에헿에헤헿'"
     ]
    }
   ],
   "source": [
    "print('정수를 입력받아 3을 출력하는 계산기를 만들어라')\n",
    "input_num = int(input('정수를 입력하시오'))\n",
    "print(input_num * 3)"
   ],
   "metadata": {
    "collapsed": false,
    "pycharm": {
     "name": "#%%\n"
    }
   }
  },
  {
   "cell_type": "code",
   "execution_count": 24,
   "outputs": [
    {
     "name": "stdout",
     "output_type": "stream",
     "text": [
      "정수를 입력받아 3을 곱한 값을 출력하는 계산기를 만들어보좌\n",
      "1395\n"
     ]
    }
   ],
   "source": [
    "print('정수를 입력받아 3을 곱한 값을 출력하는 계산기를 만들어보좌')\n",
    "input_Num =  input('정수를 입력하세요')\n",
    "if not input_Num.isnumeric():\n",
    "    print('ㅈㄹ하지말고 정수쓰세요. 입력한 값:{}'.format(input_Num))\n",
    "else:\n",
    "    input_Num = int(input_Num)\n",
    "    print(input_Num * 3)"
   ],
   "metadata": {
    "collapsed": false,
    "pycharm": {
     "name": "#%%\n"
    }
   }
  },
  {
   "cell_type": "code",
   "execution_count": 26,
   "outputs": [
    {
     "name": "stdout",
     "output_type": "stream",
     "text": [
      "정수를 입력받아 5을 곱한 값을 출력하는 계산기를 만들어보좌\n",
      "응 그거 아니야 정수쓰세요. 입력한 값: 동탄싸우나 수건 도둑 엄준식\n"
     ]
    }
   ],
   "source": [
    "print('정수를 입력받아 5을 곱한 값을 출력하는 계산기를 만들어보좌')\n",
    "num = input('정수를 써라')\n",
    "if not num.isnumeric():\n",
    "    print('응 그거 아니야 정수쓰세요. 입력한 값: {}'.format(num))\n",
    "else:\n",
    "    num = int(num)\n",
    "    print(num * 5)"
   ],
   "metadata": {
    "collapsed": false,
    "pycharm": {
     "name": "#%%\n"
    }
   }
  },
  {
   "cell_type": "code",
   "execution_count": null,
   "outputs": [],
   "source": [
    "print('정수를 입력받아 5을 곱한 값을 출력하는 계산기를 만들어보좌')\n",
    "num = input('정수를 써라')\n",
    "assert input_num.isnvmeric"
   ],
   "metadata": {
    "collapsed": false,
    "pycharm": {
     "name": "#%%\n"
    }
   }
  },
  {
   "cell_type": "code",
   "execution_count": 28,
   "outputs": [
    {
     "ename": "AssertionError",
     "evalue": "1은 0보다 크다",
     "output_type": "error",
     "traceback": [
      "\u001B[1;31m---------------------------------------------------------------------------\u001B[0m",
      "\u001B[1;31mAssertionError\u001B[0m                            Traceback (most recent call last)",
      "\u001B[1;32m~\\AppData\\Local\\Temp/ipykernel_22628/2057206053.py\u001B[0m in \u001B[0;36m<module>\u001B[1;34m\u001B[0m\n\u001B[1;32m----> 1\u001B[1;33m \u001B[1;32massert\u001B[0m \u001B[1;36m1\u001B[0m\u001B[1;33m<\u001B[0m\u001B[1;36m0\u001B[0m\u001B[1;33m,\u001B[0m \u001B[1;34m'1은 0보다 크다'\u001B[0m\u001B[1;33m\u001B[0m\u001B[1;33m\u001B[0m\u001B[0m\n\u001B[0m",
      "\u001B[1;31mAssertionError\u001B[0m: 1은 0보다 크다"
     ]
    }
   ],
   "source": [
    "assert 1<0, '1은 0보다 크다'"
   ],
   "metadata": {
    "collapsed": false,
    "pycharm": {
     "name": "#%%\n"
    }
   }
  },
  {
   "cell_type": "code",
   "execution_count": 30,
   "outputs": [
    {
     "name": "stdout",
     "output_type": "stream",
     "text": [
      "정수를 입력받아 5을 곱한 값을 출력하는 계산기를 만들어보좌\n"
     ]
    },
    {
     "ename": "AttributeError",
     "evalue": "'str' object has no attribute 'isnvmeric'",
     "output_type": "error",
     "traceback": [
      "\u001B[1;31m---------------------------------------------------------------------------\u001B[0m",
      "\u001B[1;31mAttributeError\u001B[0m                            Traceback (most recent call last)",
      "\u001B[1;32m~\\AppData\\Local\\Temp/ipykernel_22628/570316581.py\u001B[0m in \u001B[0;36m<module>\u001B[1;34m\u001B[0m\n\u001B[0;32m      1\u001B[0m \u001B[0mprint\u001B[0m\u001B[1;33m(\u001B[0m\u001B[1;34m'정수를 입력받아 5을 곱한 값을 출력하는 계산기를 만들어보좌'\u001B[0m\u001B[1;33m)\u001B[0m\u001B[1;33m\u001B[0m\u001B[1;33m\u001B[0m\u001B[0m\n\u001B[0;32m      2\u001B[0m \u001B[0mnum\u001B[0m \u001B[1;33m=\u001B[0m \u001B[0minput\u001B[0m\u001B[1;33m(\u001B[0m\u001B[1;34m'정수를 써라'\u001B[0m\u001B[1;33m)\u001B[0m\u001B[1;33m\u001B[0m\u001B[1;33m\u001B[0m\u001B[0m\n\u001B[1;32m----> 3\u001B[1;33m \u001B[1;32massert\u001B[0m \u001B[0mnum\u001B[0m\u001B[1;33m.\u001B[0m\u001B[0misnvmeric\u001B[0m\u001B[1;33m,\u001B[0m \u001B[1;34m'정수를 쓰세요'\u001B[0m\u001B[1;33m\u001B[0m\u001B[1;33m\u001B[0m\u001B[0m\n\u001B[0m\u001B[0;32m      4\u001B[0m \u001B[0mnum\u001B[0m \u001B[1;33m=\u001B[0m \u001B[0mint\u001B[0m\u001B[1;33m(\u001B[0m\u001B[0mnum\u001B[0m\u001B[1;33m)\u001B[0m\u001B[1;33m\u001B[0m\u001B[1;33m\u001B[0m\u001B[0m\n\u001B[0;32m      5\u001B[0m \u001B[0mprint\u001B[0m\u001B[1;33m(\u001B[0m\u001B[0mnum\u001B[0m \u001B[1;33m*\u001B[0m \u001B[1;36m5\u001B[0m\u001B[1;33m)\u001B[0m\u001B[1;33m\u001B[0m\u001B[1;33m\u001B[0m\u001B[0m\n",
      "\u001B[1;31mAttributeError\u001B[0m: 'str' object has no attribute 'isnvmeric'"
     ]
    }
   ],
   "source": [
    "print('정수를 입력받아 5을 곱한 값을 출력하는 계산기를 만들어보좌')\n",
    "num = input('정수를 써라')\n",
    "assert num.isnvmeric, '정수를 쓰세요'\n",
    "num = int(num)\n",
    "print(num * 5)"
   ],
   "metadata": {
    "collapsed": false,
    "pycharm": {
     "name": "#%%\n"
    }
   }
  },
  {
   "cell_type": "code",
   "execution_count": null,
   "outputs": [],
   "source": [
    "#try:\n",
    "#   코드1\n",
    "#except:\n",
    "#   코드2\n"
   ],
   "metadata": {
    "collapsed": false,
    "pycharm": {
     "name": "#%%\n"
    }
   }
  },
  {
   "cell_type": "code",
   "execution_count": 34,
   "outputs": [
    {
     "name": "stdout",
     "output_type": "stream",
     "text": [
      "동아리비 100만원을 입력한 정수 만큼의 인원으로 나누어주세요\n",
      "잼민아 그만해\n"
     ]
    }
   ],
   "source": [
    "try:\n",
    "    print('동아리비 100만원을 입력한 정수 만큼의 인원으로 나누어주세요')\n",
    "    Dong_human = int(input('나눌 숫자를 입력해주세요'))\n",
    "    print('한 사람당 {}만원을 가집니다'.format(100/Dong_human))\n",
    "except(ValueError, ZeroDivisionError):\n",
    "    print('잼민아 그만해')"
   ],
   "metadata": {
    "collapsed": false,
    "pycharm": {
     "name": "#%%\n"
    }
   }
  },
  {
   "cell_type": "code",
   "execution_count": 35,
   "outputs": [
    {
     "name": "stdout",
     "output_type": "stream",
     "text": [
      "[1, 2, 3, 4, 5, 6, 7, 8, 9, 10]\n"
     ]
    }
   ],
   "source": [
    "numbers_10 = []\n",
    "for n in range(1, 10+1):\n",
    "    numbers_10.append(n)\n",
    "print(numbers_10)"
   ],
   "metadata": {
    "collapsed": false,
    "pycharm": {
     "name": "#%%\n"
    }
   }
  },
  {
   "cell_type": "code",
   "execution_count": 39,
   "outputs": [
    {
     "data": {
      "text/plain": "[2, 4, 6, 8, 10]"
     },
     "execution_count": 39,
     "metadata": {},
     "output_type": "execute_result"
    }
   ],
   "source": [
    "[x for x in range(10+1)]\n",
    "[2*x for x in range(1, 10+1)]\n",
    "[x for x in  range(1, 10+1) if x % 2 == 0]"
   ],
   "metadata": {
    "collapsed": false,
    "pycharm": {
     "name": "#%%\n"
    }
   }
  },
  {
   "cell_type": "code",
   "execution_count": 41,
   "outputs": [
    {
     "data": {
      "text/plain": "[('볶음밥', '콜라', '배달'),\n ('볶음밥', '콜라', '포장'),\n ('볶음밥', '콜라', '매장'),\n ('볶음밥', '아이스크림', '배달'),\n ('볶음밥', '아이스크림', '포장'),\n ('볶음밥', '아이스크림', '매장'),\n ('볶음밥', '사과주스', '배달'),\n ('볶음밥', '사과주스', '포장'),\n ('볶음밥', '사과주스', '매장'),\n ('볶음밥', '커피', '배달'),\n ('볶음밥', '커피', '포장'),\n ('볶음밥', '커피', '매장'),\n ('치킨', '콜라', '배달'),\n ('치킨', '콜라', '포장'),\n ('치킨', '콜라', '매장'),\n ('치킨', '아이스크림', '배달'),\n ('치킨', '아이스크림', '포장'),\n ('치킨', '아이스크림', '매장'),\n ('치킨', '사과주스', '배달'),\n ('치킨', '사과주스', '포장'),\n ('치킨', '사과주스', '매장'),\n ('치킨', '커피', '배달'),\n ('치킨', '커피', '포장'),\n ('치킨', '커피', '매장'),\n ('라면', '콜라', '배달'),\n ('라면', '콜라', '포장'),\n ('라면', '콜라', '매장'),\n ('라면', '아이스크림', '배달'),\n ('라면', '아이스크림', '포장'),\n ('라면', '아이스크림', '매장'),\n ('라면', '사과주스', '배달'),\n ('라면', '사과주스', '포장'),\n ('라면', '사과주스', '매장'),\n ('라면', '커피', '배달'),\n ('라면', '커피', '포장'),\n ('라면', '커피', '매장')]"
     },
     "execution_count": 41,
     "metadata": {},
     "output_type": "execute_result"
    }
   ],
   "source": [
    "[(x,y,z)for x in ['볶음밥', '치킨', '라면'] for y in ['콜라', '아이스크림', '사과주스', '커피'] for z in ['배달', '포장', '매장']]"
   ],
   "metadata": {
    "collapsed": false,
    "pycharm": {
     "name": "#%%\n"
    }
   }
  },
  {
   "cell_type": "code",
   "execution_count": 44,
   "outputs": [
    {
     "name": "stdout",
     "output_type": "stream",
     "text": [
      "부찌 콜라 배달\n",
      "부찌 콜라 포장\n",
      "부찌 콜라 매장\n",
      "부찌 아이스크림 배달\n",
      "부찌 아이스크림 포장\n",
      "부찌 아이스크림 매장\n",
      "부찌 사과주스 배달\n",
      "부찌 사과주스 포장\n",
      "부찌 사과주스 매장\n",
      "부찌 커피 배달\n",
      "부찌 커피 포장\n",
      "부찌 커피 매장\n",
      "치킨 콜라 배달\n",
      "치킨 콜라 포장\n",
      "치킨 콜라 매장\n",
      "치킨 아이스크림 배달\n",
      "치킨 아이스크림 포장\n",
      "치킨 아이스크림 매장\n",
      "치킨 사과주스 배달\n",
      "치킨 사과주스 포장\n",
      "치킨 사과주스 매장\n",
      "치킨 커피 배달\n",
      "치킨 커피 포장\n",
      "치킨 커피 매장\n",
      "라면 콜라 배달\n",
      "라면 콜라 포장\n",
      "라면 콜라 매장\n",
      "라면 아이스크림 배달\n",
      "라면 아이스크림 포장\n",
      "라면 아이스크림 매장\n",
      "라면 사과주스 배달\n",
      "라면 사과주스 포장\n",
      "라면 사과주스 매장\n",
      "라면 커피 배달\n",
      "라면 커피 포장\n",
      "라면 커피 매장\n"
     ]
    }
   ],
   "source": [
    "for x in ['부찌', '치킨', '라면']:\n",
    "    for y in ['콜라', '아이스크림', '사과주스', '커피']:\n",
    "        for z in ['배달', '포장', '매장']:\n",
    "            print(x, y, z)"
   ],
   "metadata": {
    "collapsed": false,
    "pycharm": {
     "name": "#%%\n"
    }
   }
  },
  {
   "cell_type": "code",
   "execution_count": 45,
   "outputs": [
    {
     "data": {
      "text/plain": "[0, 2, 4]"
     },
     "execution_count": 45,
     "metadata": {},
     "output_type": "execute_result"
    }
   ],
   "source": [
    "[x for x in range(10) if x < 5 if x % 2 == 0]"
   ],
   "metadata": {
    "collapsed": false,
    "pycharm": {
     "name": "#%%\n"
    }
   }
  },
  {
   "cell_type": "code",
   "execution_count": null,
   "outputs": [],
   "source": [
    "print('\\    /\\')\n",
    "print(' )  ( ')')"
   ],
   "metadata": {
    "collapsed": false,
    "pycharm": {
     "name": "#%%\n"
    }
   }
  },
  {
   "cell_type": "code",
   "execution_count": null,
   "outputs": [],
   "source": [],
   "metadata": {
    "collapsed": false,
    "pycharm": {
     "name": "#%%\n"
    }
   }
  },
  {
   "cell_type": "code",
   "execution_count": null,
   "outputs": [],
   "source": [],
   "metadata": {
    "collapsed": false,
    "pycharm": {
     "name": "#%%\n"
    }
   }
  },
  {
   "cell_type": "code",
   "execution_count": null,
   "outputs": [],
   "source": [],
   "metadata": {
    "collapsed": false,
    "pycharm": {
     "name": "#%%\n"
    }
   }
  },
  {
   "cell_type": "code",
   "execution_count": null,
   "outputs": [],
   "source": [],
   "metadata": {
    "collapsed": false,
    "pycharm": {
     "name": "#%%\n"
    }
   }
  },
  {
   "cell_type": "code",
   "execution_count": null,
   "outputs": [],
   "source": [],
   "metadata": {
    "collapsed": false,
    "pycharm": {
     "name": "#%%\n"
    }
   }
  }
 ],
 "metadata": {
  "kernelspec": {
   "display_name": "Python 3",
   "language": "python",
   "name": "python3"
  },
  "language_info": {
   "codemirror_mode": {
    "name": "ipython",
    "version": 2
   },
   "file_extension": ".py",
   "mimetype": "text/x-python",
   "name": "python",
   "nbconvert_exporter": "python",
   "pygments_lexer": "ipython2",
   "version": "2.7.6"
  }
 },
 "nbformat": 4,
 "nbformat_minor": 0
}